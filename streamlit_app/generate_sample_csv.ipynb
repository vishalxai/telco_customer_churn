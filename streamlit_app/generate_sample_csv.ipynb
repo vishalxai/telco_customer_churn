{
 "cells": [
  {
   "cell_type": "code",
   "execution_count": 1,
   "id": "fb1ada00-8132-438a-815f-58471d018047",
   "metadata": {},
   "outputs": [
    {
     "name": "stdout",
     "output_type": "stream",
     "text": [
      "✅ sample_input.csv created successfully.\n"
     ]
    }
   ],
   "source": [
    "import pandas as pd\n",
    "\n",
    "data = {\n",
    "    'gender': ['Male', 'Female', 'Male', 'Female', 'Male'],\n",
    "    'SeniorCitizen': [0, 1, 0, 0, 1],\n",
    "    'Partner': ['Yes', 'No', 'Yes', 'No', 'No'],\n",
    "    'Dependents': ['No', 'Yes', 'Yes', 'No', 'No'],\n",
    "    'tenure': [12, 45, 5, 22, 2],\n",
    "    'PhoneService': ['Yes', 'Yes', 'Yes', 'Yes', 'Yes'],\n",
    "    'MultipleLines': ['No', 'Yes', 'Yes', 'No', 'No'],\n",
    "    'InternetService': ['Fiber optic', 'DSL', 'Fiber optic', 'DSL', 'Fiber optic'],\n",
    "    'OnlineSecurity': ['Yes', 'No', 'Yes', 'Yes', 'No'],\n",
    "    'OnlineBackup': ['No', 'Yes', 'Yes', 'No', 'No'],\n",
    "    'DeviceProtection': ['Yes', 'No', 'Yes', 'Yes', 'No'],\n",
    "    'TechSupport': ['No', 'No', 'Yes', 'Yes', 'No'],\n",
    "    'StreamingTV': ['Yes', 'No', 'No', 'Yes', 'No'],\n",
    "    'StreamingMovies': ['No', 'Yes', 'No', 'Yes', 'No'],\n",
    "    'Contract': ['Month-to-month', 'Two year', 'One year', 'Month-to-month', 'Month-to-month'],\n",
    "    'PaperlessBilling': ['Yes', 'No', 'Yes', 'Yes', 'Yes'],\n",
    "    'PaymentMethod': ['Electronic check', 'Mailed check', 'Bank transfer (automatic)', 'Credit card (automatic)', 'Electronic check'],\n",
    "    'MonthlyCharges': [70.35, 56.95, 99.75, 79.85, 65.3],\n",
    "    'TotalCharges': [845.5, 2500.25, 487.95, 1750.4, 140.6]\n",
    "}\n",
    "\n",
    "df = pd.DataFrame(data)\n",
    "\n",
    "# Save the CSV to your streamlit_app folder\n",
    "df.to_csv(\"sample_input.csv\", index=False)\n",
    "print(\"✅ sample_input.csv created successfully.\")"
   ]
  },
  {
   "cell_type": "code",
   "execution_count": null,
   "id": "c2eed312-ddb7-4323-b1f8-1968edd3f80e",
   "metadata": {},
   "outputs": [],
   "source": []
  }
 ],
 "metadata": {
  "kernelspec": {
   "display_name": "Python 3 (ipykernel)",
   "language": "python",
   "name": "python3"
  },
  "language_info": {
   "codemirror_mode": {
    "name": "ipython",
    "version": 3
   },
   "file_extension": ".py",
   "mimetype": "text/x-python",
   "name": "python",
   "nbconvert_exporter": "python",
   "pygments_lexer": "ipython3",
   "version": "3.13.1"
  }
 },
 "nbformat": 4,
 "nbformat_minor": 5
}
